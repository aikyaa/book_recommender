{
 "cells": [
  {
   "cell_type": "code",
   "execution_count": 1,
   "id": "64b0748f",
   "metadata": {},
   "outputs": [],
   "source": [
    "import pandas as pd\n",
    "\n",
    "books=pd.read_csv(\"books_categorised.csv\")"
   ]
  },
  {
   "cell_type": "code",
   "execution_count": null,
   "id": "95b96df8",
   "metadata": {},
   "outputs": [],
   "source": [
    "from transformers import pipeline\n",
    "classifier = pipeline(\"text-classification\", model=\"j-hartmann/emotion-english-distilroberta-base\", return_all_scores=True, top_k=None)\n",
    "classifier(\"I love this!\")"
   ]
  },
  {
   "cell_type": "code",
   "execution_count": null,
   "id": "effacdd4",
   "metadata": {},
   "outputs": [],
   "source": [
    "classifier(books[\"description\"])"
   ]
  },
  {
   "cell_type": "code",
   "execution_count": null,
   "id": "6fe86fc1",
   "metadata": {},
   "outputs": [],
   "source": [
    "predictions=classifier(books[\"description\"][0].split(\".\"))\n",
    "#sentence wise analysis for finer classification of overall tone"
   ]
  },
  {
   "cell_type": "code",
   "execution_count": null,
   "id": "d0e4c11a",
   "metadata": {},
   "outputs": [
    {
     "data": {
      "text/plain": [
       "[{'label': 'anger', 'score': 0.009156372398138046},\n",
       " {'label': 'disgust', 'score': 0.002628477057442069},\n",
       " {'label': 'fear', 'score': 0.06816234439611435},\n",
       " {'label': 'joy', 'score': 0.047942597419023514},\n",
       " {'label': 'neutral', 'score': 0.14038586616516113},\n",
       " {'label': 'sadness', 'score': 0.002122163074091077},\n",
       " {'label': 'surprise', 'score': 0.7296022176742554}]"
      ]
     },
     "execution_count": 6,
     "metadata": {},
     "output_type": "execute_result"
    }
   ],
   "source": [
    "sorted(predictions[0], key=lambda x:x[\"label\"])"
   ]
  },
  {
   "cell_type": "code",
   "execution_count": null,
   "id": "6351d702",
   "metadata": {},
   "outputs": [],
   "source": [
    "import numpy as np\n",
    "\n",
    "emotion_labels =[\"anger\", \"disgust\", \"fear\", \"joy\", \"sadness\", \"surprise\", \"neutral\"]\n",
    "isbn=[]\n",
    "emotion_scores = {label: [] for label in emotion_labels}\n",
    "\n",
    "def calculate_max_emotion_scores(predictions):\n",
    "    per_emotion_scores={label: [] for label in emotion_labels}\n",
    "    for prediction in predictions:\n",
    "        sorted_predictions=sorted(prediction[\"score\"], key=lambda x:x[\"label\"])\n",
    "        for index, label in enumerate(emotion_labels):\n",
    "            per_emotion_scores[label].append(sorted_predictions[index][\"score\"])\n",
    "    return {label: np.max(scores) for label, scores in per_emotion_scores.items()}"
   ]
  },
  {
   "cell_type": "code",
   "execution_count": null,
   "id": "cc3e4fb2",
   "metadata": {},
   "outputs": [],
   "source": [
    "from tqdm import tqdm\n",
    "\n",
    "for i in tqdm(range(10)):\n",
    "    isbn.append(books[\"isbn13\"][i])\n",
    "    sentences = books[\"description\"][i].split(\".\")\n",
    "    predictions=classifier(sentences)\n",
    "    max_scores=calculate_max_emotion_scores(predictions)\n",
    "    for label in emotion_labels:\n",
    "        emotion_scores[label].append(max_scores[label])"
   ]
  },
  {
   "cell_type": "code",
   "execution_count": null,
   "id": "dd090e1c",
   "metadata": {},
   "outputs": [],
   "source": [
    "from tqdm import tqdm\n",
    "\n",
    "emotion_labels =[\"anger\", \"disgust\", \"fear\", \"joy\", \"sadness\", \"surprise\", \"neutral\"]\n",
    "isbn=[]\n",
    "emotion_scores = {label: [] for label in emotion_labels}\n",
    "\n",
    "for i in tqdm(range(len(books))):\n",
    "    isbn.append(books[\"isbn13\"][i])\n",
    "    sentences = books[\"description\"][i].split(\".\")\n",
    "    predictions=classifier(sentences)\n",
    "    max_scores=calculate_max_emotion_scores(predictions)\n",
    "    for label in emotion_labels:\n",
    "        emotion_scores[label].append(max_scores[label])"
   ]
  },
  {
   "cell_type": "code",
   "execution_count": null,
   "id": "3fb4a342",
   "metadata": {},
   "outputs": [],
   "source": [
    "emotions_df=pd.DataFrame(emotion_scores)\n",
    "emotions_df[\"isbn13\"]=isbn"
   ]
  },
  {
   "cell_type": "code",
   "execution_count": null,
   "id": "8aed8537",
   "metadata": {},
   "outputs": [],
   "source": [
    "emotions_df.head()"
   ]
  },
  {
   "cell_type": "code",
   "execution_count": null,
   "id": "9cde10a2",
   "metadata": {},
   "outputs": [],
   "source": [
    "books=pd.merge(books, emotions_df, on=\"isbn13\", how=\"left\")"
   ]
  },
  {
   "cell_type": "code",
   "execution_count": null,
   "id": "99f4022e",
   "metadata": {},
   "outputs": [],
   "source": [
    "books.to_csv(\"books_with_emotions.csv\", index=False)"
   ]
  }
 ],
 "metadata": {
  "kernelspec": {
   "display_name": "learn_llm_3.13.5",
   "language": "python",
   "name": "python3"
  },
  "language_info": {
   "codemirror_mode": {
    "name": "ipython",
    "version": 3
   },
   "file_extension": ".py",
   "mimetype": "text/x-python",
   "name": "python",
   "nbconvert_exporter": "python",
   "pygments_lexer": "ipython3",
   "version": "3.13.5"
  }
 },
 "nbformat": 4,
 "nbformat_minor": 5
}
