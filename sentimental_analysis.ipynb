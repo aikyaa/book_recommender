{
 "cells": [
  {
   "cell_type": "code",
   "execution_count": 1,
   "id": "64b0748f",
   "metadata": {},
   "outputs": [],
   "source": [
    "import pandas as pd\n",
    "\n",
    "books=pd.read_csv(\"books_categorised.csv\")"
   ]
  },
  {
   "cell_type": "code",
   "execution_count": 2,
   "id": "95b96df8",
   "metadata": {},
   "outputs": [
    {
     "name": "stderr",
     "output_type": "stream",
     "text": [
      "Device set to use cpu\n"
     ]
    },
    {
     "data": {
      "text/plain": [
       "[[{'label': 'joy', 'score': 0.9771687984466553},\n",
       "  {'label': 'surprise', 'score': 0.008528684265911579},\n",
       "  {'label': 'neutral', 'score': 0.005764591973274946},\n",
       "  {'label': 'anger', 'score': 0.004419785924255848},\n",
       "  {'label': 'sadness', 'score': 0.002092393347993493},\n",
       "  {'label': 'disgust', 'score': 0.001611992483958602},\n",
       "  {'label': 'fear', 'score': 0.0004138524236623198}]]"
      ]
     },
     "execution_count": 2,
     "metadata": {},
     "output_type": "execute_result"
    }
   ],
   "source": [
    "from transformers import pipeline\n",
    "classifier = pipeline(\"text-classification\", model=\"j-hartmann/emotion-english-distilroberta-base\", return_all_scores=True, top_k=None)\n",
    "classifier(\"I love this!\")"
   ]
  },
  {
   "cell_type": "code",
   "execution_count": 3,
   "id": "effacdd4",
   "metadata": {},
   "outputs": [
    {
     "data": {
      "text/plain": [
       "[[{'label': 'fear', 'score': 0.6548399329185486},\n",
       "  {'label': 'neutral', 'score': 0.1698525846004486},\n",
       "  {'label': 'sadness', 'score': 0.11640949547290802},\n",
       "  {'label': 'surprise', 'score': 0.020700670778751373},\n",
       "  {'label': 'disgust', 'score': 0.019100721925497055},\n",
       "  {'label': 'joy', 'score': 0.015161491930484772},\n",
       "  {'label': 'anger', 'score': 0.003935153596103191}]]"
      ]
     },
     "execution_count": 3,
     "metadata": {},
     "output_type": "execute_result"
    }
   ],
   "source": [
    "classifier(books[\"description\"][0])"
   ]
  },
  {
   "cell_type": "code",
   "execution_count": 4,
   "id": "6fe86fc1",
   "metadata": {},
   "outputs": [
    {
     "data": {
      "text/plain": [
       "[[{'label': 'surprise', 'score': 0.7296022176742554},\n",
       "  {'label': 'neutral', 'score': 0.14038586616516113},\n",
       "  {'label': 'fear', 'score': 0.06816234439611435},\n",
       "  {'label': 'joy', 'score': 0.047942597419023514},\n",
       "  {'label': 'anger', 'score': 0.009156372398138046},\n",
       "  {'label': 'disgust', 'score': 0.002628477057442069},\n",
       "  {'label': 'sadness', 'score': 0.002122163074091077}],\n",
       " [{'label': 'neutral', 'score': 0.44936978816986084},\n",
       "  {'label': 'disgust', 'score': 0.273592084646225},\n",
       "  {'label': 'joy', 'score': 0.10908310860395432},\n",
       "  {'label': 'sadness', 'score': 0.09362740814685822},\n",
       "  {'label': 'anger', 'score': 0.04047837108373642},\n",
       "  {'label': 'surprise', 'score': 0.026970159262418747},\n",
       "  {'label': 'fear', 'score': 0.006879053078591824}],\n",
       " [{'label': 'neutral', 'score': 0.6462159156799316},\n",
       "  {'label': 'sadness', 'score': 0.24273331463336945},\n",
       "  {'label': 'disgust', 'score': 0.043422672897577286},\n",
       "  {'label': 'surprise', 'score': 0.0283005703240633},\n",
       "  {'label': 'joy', 'score': 0.01421149168163538},\n",
       "  {'label': 'fear', 'score': 0.01408409047871828},\n",
       "  {'label': 'anger', 'score': 0.011031895875930786}],\n",
       " [{'label': 'fear', 'score': 0.9281684160232544},\n",
       "  {'label': 'anger', 'score': 0.03219080716371536},\n",
       "  {'label': 'neutral', 'score': 0.012808655388653278},\n",
       "  {'label': 'sadness', 'score': 0.008756867609918118},\n",
       "  {'label': 'surprise', 'score': 0.008597898297011852},\n",
       "  {'label': 'disgust', 'score': 0.008431808091700077},\n",
       "  {'label': 'joy', 'score': 0.0010455824667587876}],\n",
       " [{'label': 'sadness', 'score': 0.9671575427055359},\n",
       "  {'label': 'neutral', 'score': 0.01510414108633995},\n",
       "  {'label': 'disgust', 'score': 0.006480592768639326},\n",
       "  {'label': 'fear', 'score': 0.005393984727561474},\n",
       "  {'label': 'surprise', 'score': 0.002286941045895219},\n",
       "  {'label': 'anger', 'score': 0.0018428886542096734},\n",
       "  {'label': 'joy', 'score': 0.001733877114020288}],\n",
       " [{'label': 'joy', 'score': 0.932798445224762},\n",
       "  {'label': 'disgust', 'score': 0.037716738879680634},\n",
       "  {'label': 'neutral', 'score': 0.01589176431298256},\n",
       "  {'label': 'sadness', 'score': 0.006444471422582865},\n",
       "  {'label': 'anger', 'score': 0.005024938844144344},\n",
       "  {'label': 'surprise', 'score': 0.0015812034253031015},\n",
       "  {'label': 'fear', 'score': 0.00054230383830145}],\n",
       " [{'label': 'joy', 'score': 0.652870774269104},\n",
       "  {'label': 'neutral', 'score': 0.25427475571632385},\n",
       "  {'label': 'surprise', 'score': 0.06808294355869293},\n",
       "  {'label': 'sadness', 'score': 0.009908999316394329},\n",
       "  {'label': 'disgust', 'score': 0.006512213498353958},\n",
       "  {'label': 'anger', 'score': 0.004821308888494968},\n",
       "  {'label': 'fear', 'score': 0.003529014065861702}],\n",
       " [{'label': 'neutral', 'score': 0.5494765043258667},\n",
       "  {'label': 'sadness', 'score': 0.11169024556875229},\n",
       "  {'label': 'disgust', 'score': 0.10400678217411041},\n",
       "  {'label': 'surprise', 'score': 0.07876549661159515},\n",
       "  {'label': 'anger', 'score': 0.0641336739063263},\n",
       "  {'label': 'fear', 'score': 0.051362860947847366},\n",
       "  {'label': 'joy', 'score': 0.04056445509195328}]]"
      ]
     },
     "execution_count": 4,
     "metadata": {},
     "output_type": "execute_result"
    }
   ],
   "source": [
    "predictions=classifier(books[\"description\"][0].split(\".\"))\n",
    "#sentence wise analysis for finer classification of overall tone\n",
    "predictions"
   ]
  },
  {
   "cell_type": "code",
   "execution_count": 5,
   "id": "d0e4c11a",
   "metadata": {},
   "outputs": [
    {
     "data": {
      "text/plain": [
       "[{'label': 'anger', 'score': 0.009156372398138046},\n",
       " {'label': 'disgust', 'score': 0.002628477057442069},\n",
       " {'label': 'fear', 'score': 0.06816234439611435},\n",
       " {'label': 'joy', 'score': 0.047942597419023514},\n",
       " {'label': 'neutral', 'score': 0.14038586616516113},\n",
       " {'label': 'sadness', 'score': 0.002122163074091077},\n",
       " {'label': 'surprise', 'score': 0.7296022176742554}]"
      ]
     },
     "execution_count": 5,
     "metadata": {},
     "output_type": "execute_result"
    }
   ],
   "source": [
    "sorted(predictions[0], key=lambda x:x[\"label\"])"
   ]
  },
  {
   "cell_type": "code",
   "execution_count": 13,
   "id": "6351d702",
   "metadata": {},
   "outputs": [],
   "source": [
    "import numpy as np\n",
    "\n",
    "emotion_labels =[\"anger\", \"disgust\", \"fear\", \"joy\", \"sadness\", \"surprise\", \"neutral\"]\n",
    "isbn=[]\n",
    "emotion_scores = {label: [] for label in emotion_labels}\n",
    "\n",
    "def calculate_max_emotion_scores(predictions):\n",
    "    per_emotion_scores={label: [] for label in emotion_labels}\n",
    "    for prediction in predictions:\n",
    "        sorted_predictions=sorted(prediction, key=lambda x:x[\"label\"])\n",
    "        for index, label in enumerate(emotion_labels):\n",
    "            per_emotion_scores[label].append(sorted_predictions[index][\"score\"])\n",
    "    return {label: np.max(scores) for label, scores in per_emotion_scores.items()}"
   ]
  },
  {
   "cell_type": "code",
   "execution_count": 14,
   "id": "cc3e4fb2",
   "metadata": {},
   "outputs": [
    {
     "name": "stderr",
     "output_type": "stream",
     "text": [
      "100%|██████████| 10/10 [00:01<00:00,  6.00it/s]\n"
     ]
    }
   ],
   "source": [
    "from tqdm import tqdm\n",
    "\n",
    "for i in tqdm(range(10)):\n",
    "    isbn.append(books[\"isbn13\"][i])\n",
    "    sentences = books[\"description\"][i].split(\".\")\n",
    "    predictions=classifier(sentences)\n",
    "    max_scores=calculate_max_emotion_scores(predictions)\n",
    "    for label in emotion_labels:\n",
    "        emotion_scores[label].append(max_scores[label])"
   ]
  },
  {
   "cell_type": "code",
   "execution_count": 15,
   "id": "8244e87a",
   "metadata": {},
   "outputs": [
    {
     "data": {
      "text/plain": [
       "{'anger': [np.float64(0.0641336739063263),\n",
       "  np.float64(0.6126192212104797),\n",
       "  np.float64(0.0641336739063263),\n",
       "  np.float64(0.3514849543571472),\n",
       "  np.float64(0.08141250908374786),\n",
       "  np.float64(0.23222453892230988),\n",
       "  np.float64(0.5381843447685242),\n",
       "  np.float64(0.0641336739063263),\n",
       "  np.float64(0.3006702661514282),\n",
       "  np.float64(0.0641336739063263)],\n",
       " 'disgust': [np.float64(0.273592084646225),\n",
       "  np.float64(0.348284512758255),\n",
       "  np.float64(0.10400678217411041),\n",
       "  np.float64(0.15072233974933624),\n",
       "  np.float64(0.1844957321882248),\n",
       "  np.float64(0.7271750569343567),\n",
       "  np.float64(0.15585479140281677),\n",
       "  np.float64(0.10400678217411041),\n",
       "  np.float64(0.2794811725616455),\n",
       "  np.float64(0.1779264211654663)],\n",
       " 'fear': [np.float64(0.9281684160232544),\n",
       "  np.float64(0.9425276517868042),\n",
       "  np.float64(0.9723207950592041),\n",
       "  np.float64(0.3607054650783539),\n",
       "  np.float64(0.09504339098930359),\n",
       "  np.float64(0.051362860947847366),\n",
       "  np.float64(0.7474274039268494),\n",
       "  np.float64(0.40449756383895874),\n",
       "  np.float64(0.9155241250991821),\n",
       "  np.float64(0.051362860947847366)],\n",
       " 'joy': [np.float64(0.932798445224762),\n",
       "  np.float64(0.7044222354888916),\n",
       "  np.float64(0.7672385573387146),\n",
       "  np.float64(0.25188079476356506),\n",
       "  np.float64(0.04056445509195328),\n",
       "  np.float64(0.043375857174396515),\n",
       "  np.float64(0.8725658655166626),\n",
       "  np.float64(0.04056445509195328),\n",
       "  np.float64(0.04056445509195328),\n",
       "  np.float64(0.04056445509195328)],\n",
       " 'sadness': [np.float64(0.6462159156799316),\n",
       "  np.float64(0.8879395127296448),\n",
       "  np.float64(0.5494765043258667),\n",
       "  np.float64(0.7326849102973938),\n",
       "  np.float64(0.8843895196914673),\n",
       "  np.float64(0.6213917136192322),\n",
       "  np.float64(0.7121937870979309),\n",
       "  np.float64(0.5494765043258667),\n",
       "  np.float64(0.8402889370918274),\n",
       "  np.float64(0.8603722453117371)],\n",
       " 'surprise': [np.float64(0.9671575427055359),\n",
       "  np.float64(0.11169024556875229),\n",
       "  np.float64(0.11169024556875229),\n",
       "  np.float64(0.11169024556875229),\n",
       "  np.float64(0.47588038444519043),\n",
       "  np.float64(0.11169024556875229),\n",
       "  np.float64(0.4080007076263428),\n",
       "  np.float64(0.8202823996543884),\n",
       "  np.float64(0.3544611632823944),\n",
       "  np.float64(0.11169024556875229)],\n",
       " 'neutral': [np.float64(0.7296022176742554),\n",
       "  np.float64(0.2525462210178375),\n",
       "  np.float64(0.07876549661159515),\n",
       "  np.float64(0.07876549661159515),\n",
       "  np.float64(0.07876549661159515),\n",
       "  np.float64(0.2719036638736725),\n",
       "  np.float64(0.07876549661159515),\n",
       "  np.float64(0.234486922621727),\n",
       "  np.float64(0.13561366498470306),\n",
       "  np.float64(0.07876549661159515)]}"
      ]
     },
     "execution_count": 15,
     "metadata": {},
     "output_type": "execute_result"
    }
   ],
   "source": [
    "emotion_scores"
   ]
  },
  {
   "cell_type": "code",
   "execution_count": 16,
   "id": "dd090e1c",
   "metadata": {},
   "outputs": [
    {
     "name": "stderr",
     "output_type": "stream",
     "text": [
      "  0%|          | 0/5197 [00:00<?, ?it/s]"
     ]
    },
    {
     "name": "stderr",
     "output_type": "stream",
     "text": [
      "100%|██████████| 5197/5197 [11:21<00:00,  7.63it/s]\n"
     ]
    }
   ],
   "source": [
    "from tqdm import tqdm\n",
    "\n",
    "emotion_labels =[\"anger\", \"disgust\", \"fear\", \"joy\", \"sadness\", \"surprise\", \"neutral\"]\n",
    "isbn=[]\n",
    "emotion_scores = {label: [] for label in emotion_labels}\n",
    "\n",
    "for i in tqdm(range(len(books))):\n",
    "    isbn.append(books[\"isbn13\"][i])\n",
    "    sentences = books[\"description\"][i].split(\".\")\n",
    "    predictions=classifier(sentences)\n",
    "    max_scores=calculate_max_emotion_scores(predictions)\n",
    "    for label in emotion_labels:\n",
    "        emotion_scores[label].append(max_scores[label])"
   ]
  },
  {
   "cell_type": "code",
   "execution_count": 17,
   "id": "3fb4a342",
   "metadata": {},
   "outputs": [],
   "source": [
    "emotions_df=pd.DataFrame(emotion_scores)\n",
    "emotions_df[\"isbn13\"]=isbn"
   ]
  },
  {
   "cell_type": "code",
   "execution_count": 18,
   "id": "8aed8537",
   "metadata": {},
   "outputs": [
    {
     "data": {
      "text/html": [
       "<div>\n",
       "<style scoped>\n",
       "    .dataframe tbody tr th:only-of-type {\n",
       "        vertical-align: middle;\n",
       "    }\n",
       "\n",
       "    .dataframe tbody tr th {\n",
       "        vertical-align: top;\n",
       "    }\n",
       "\n",
       "    .dataframe thead th {\n",
       "        text-align: right;\n",
       "    }\n",
       "</style>\n",
       "<table border=\"1\" class=\"dataframe\">\n",
       "  <thead>\n",
       "    <tr style=\"text-align: right;\">\n",
       "      <th></th>\n",
       "      <th>anger</th>\n",
       "      <th>disgust</th>\n",
       "      <th>fear</th>\n",
       "      <th>joy</th>\n",
       "      <th>sadness</th>\n",
       "      <th>surprise</th>\n",
       "      <th>neutral</th>\n",
       "      <th>isbn13</th>\n",
       "    </tr>\n",
       "  </thead>\n",
       "  <tbody>\n",
       "    <tr>\n",
       "      <th>0</th>\n",
       "      <td>0.064134</td>\n",
       "      <td>0.273592</td>\n",
       "      <td>0.928168</td>\n",
       "      <td>0.932798</td>\n",
       "      <td>0.646216</td>\n",
       "      <td>0.967158</td>\n",
       "      <td>0.729602</td>\n",
       "      <td>9780002005883</td>\n",
       "    </tr>\n",
       "    <tr>\n",
       "      <th>1</th>\n",
       "      <td>0.612619</td>\n",
       "      <td>0.348285</td>\n",
       "      <td>0.942528</td>\n",
       "      <td>0.704422</td>\n",
       "      <td>0.887940</td>\n",
       "      <td>0.111690</td>\n",
       "      <td>0.252546</td>\n",
       "      <td>9780002261982</td>\n",
       "    </tr>\n",
       "    <tr>\n",
       "      <th>2</th>\n",
       "      <td>0.064134</td>\n",
       "      <td>0.104007</td>\n",
       "      <td>0.972321</td>\n",
       "      <td>0.767239</td>\n",
       "      <td>0.549477</td>\n",
       "      <td>0.111690</td>\n",
       "      <td>0.078765</td>\n",
       "      <td>9780006178736</td>\n",
       "    </tr>\n",
       "    <tr>\n",
       "      <th>3</th>\n",
       "      <td>0.351485</td>\n",
       "      <td>0.150722</td>\n",
       "      <td>0.360705</td>\n",
       "      <td>0.251881</td>\n",
       "      <td>0.732685</td>\n",
       "      <td>0.111690</td>\n",
       "      <td>0.078765</td>\n",
       "      <td>9780006280897</td>\n",
       "    </tr>\n",
       "    <tr>\n",
       "      <th>4</th>\n",
       "      <td>0.081413</td>\n",
       "      <td>0.184496</td>\n",
       "      <td>0.095043</td>\n",
       "      <td>0.040564</td>\n",
       "      <td>0.884390</td>\n",
       "      <td>0.475880</td>\n",
       "      <td>0.078765</td>\n",
       "      <td>9780006280934</td>\n",
       "    </tr>\n",
       "  </tbody>\n",
       "</table>\n",
       "</div>"
      ],
      "text/plain": [
       "      anger   disgust      fear       joy   sadness  surprise   neutral  \\\n",
       "0  0.064134  0.273592  0.928168  0.932798  0.646216  0.967158  0.729602   \n",
       "1  0.612619  0.348285  0.942528  0.704422  0.887940  0.111690  0.252546   \n",
       "2  0.064134  0.104007  0.972321  0.767239  0.549477  0.111690  0.078765   \n",
       "3  0.351485  0.150722  0.360705  0.251881  0.732685  0.111690  0.078765   \n",
       "4  0.081413  0.184496  0.095043  0.040564  0.884390  0.475880  0.078765   \n",
       "\n",
       "          isbn13  \n",
       "0  9780002005883  \n",
       "1  9780002261982  \n",
       "2  9780006178736  \n",
       "3  9780006280897  \n",
       "4  9780006280934  "
      ]
     },
     "execution_count": 18,
     "metadata": {},
     "output_type": "execute_result"
    }
   ],
   "source": [
    "emotions_df.head()"
   ]
  },
  {
   "cell_type": "code",
   "execution_count": 19,
   "id": "9cde10a2",
   "metadata": {},
   "outputs": [],
   "source": [
    "books=pd.merge(books, emotions_df, on=\"isbn13\", how=\"left\")"
   ]
  },
  {
   "cell_type": "code",
   "execution_count": 20,
   "id": "99f4022e",
   "metadata": {},
   "outputs": [],
   "source": [
    "books.to_csv(\"books_with_emotions.csv\", index=False)"
   ]
  }
 ],
 "metadata": {
  "kernelspec": {
   "display_name": "learn_llm_3.13.5",
   "language": "python",
   "name": "python3"
  },
  "language_info": {
   "codemirror_mode": {
    "name": "ipython",
    "version": 3
   },
   "file_extension": ".py",
   "mimetype": "text/x-python",
   "name": "python",
   "nbconvert_exporter": "python",
   "pygments_lexer": "ipython3",
   "version": "3.13.5"
  }
 },
 "nbformat": 4,
 "nbformat_minor": 5
}
